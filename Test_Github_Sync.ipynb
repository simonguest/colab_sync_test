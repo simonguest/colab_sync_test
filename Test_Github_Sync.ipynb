{
  "nbformat": 4,
  "nbformat_minor": 0,
  "metadata": {
    "colab": {
      "provenance": [],
      "authorship_tag": "ABX9TyN2hmu/Cv07dTE9Idm+cHlq",
      "include_colab_link": true
    },
    "kernelspec": {
      "name": "python3",
      "display_name": "Python 3"
    },
    "language_info": {
      "name": "python"
    }
  },
  "cells": [
    {
      "cell_type": "markdown",
      "metadata": {
        "id": "view-in-github",
        "colab_type": "text"
      },
      "source": [
        "<a href=\"https://colab.research.google.com/github/simonguest/colab_sync_test/blob/main/Test_Github_Sync.ipynb\" target=\"_parent\"><img src=\"https://colab.research.google.com/assets/colab-badge.svg\" alt=\"Open In Colab\"/></a>"
      ]
    },
    {
      "cell_type": "code",
      "source": [
        "import os\n",
        "if (os.getenv(\"COLAB_RELEASE_TAG\")):\n",
        "  from google.colab import drive\n",
        "  drive.mount('/content/gdrive')"
      ],
      "metadata": {
        "id": "rTsbK5bETx1j"
      },
      "execution_count": null,
      "outputs": []
    },
    {
      "cell_type": "code",
      "execution_count": null,
      "metadata": {
        "id": "p4jp1hV-RZ0o"
      },
      "outputs": [],
      "source": [
        "x = 1\n",
        "print(x)"
      ]
    }
  ]
}